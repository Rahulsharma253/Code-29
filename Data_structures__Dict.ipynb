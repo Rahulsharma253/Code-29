{
  "cells": [
    {
      "cell_type": "markdown",
      "id": "a179e157",
      "metadata": {
        "id": "a179e157"
      },
      "source": [
        "# Dictionary {key:value}"
      ]
    },
    {
      "cell_type": "markdown",
      "id": "1cb350a6",
      "metadata": {
        "id": "1cb350a6"
      },
      "source": [
        "## Properties of dictionary\n",
        "\n",
        "1- Mapping based, pairwise element\n",
        "\n",
        "2- Unorder data structure\n",
        "\n",
        "3- All data types\n",
        "\n",
        "4- Override the duplicates\n",
        "\n",
        "5- Mutable value, keys are immutable and no duplicates for keys\n",
        "\n",
        "https://www.w3schools.com/python/python_dictionaries.asp"
      ]
    },
    {
      "cell_type": "code",
      "execution_count": null,
      "id": "a25ea993",
      "metadata": {
        "colab": {
          "base_uri": "https://localhost:8080/"
        },
        "id": "a25ea993",
        "outputId": "d75fd8ed-b0c6-4760-e7fd-ca4cff76f71f"
      },
      "outputs": [
        {
          "output_type": "execute_result",
          "data": {
            "text/plain": [
              "{'Age': 25,\n",
              " 'Education': 'Graduate',\n",
              " 'IT background': False,\n",
              " 'Name': 'Sandeep',\n",
              " 'Score': 76}"
            ]
          },
          "metadata": {},
          "execution_count": 1
        }
      ],
      "source": [
        "DS001 = {\"Name\": \"Sandeep\", \"Age\": 25, \"Education\": \"Graduate\", \"IT background\": False, \"Score\": 76} # Name, age, education, IT/NonIT, Python marks\n",
        "DS001"
      ]
    },
    {
      "cell_type": "code",
      "execution_count": null,
      "id": "32a918c8",
      "metadata": {
        "id": "32a918c8",
        "outputId": "fc626431-d5f2-4f02-9856-8a390fe4081d"
      },
      "outputs": [
        {
          "data": {
            "text/plain": [
              "dict"
            ]
          },
          "execution_count": 3,
          "metadata": {},
          "output_type": "execute_result"
        }
      ],
      "source": [
        "type(DS001)"
      ]
    },
    {
      "cell_type": "code",
      "execution_count": null,
      "id": "526e3dc4",
      "metadata": {
        "id": "526e3dc4",
        "outputId": "362a26b7-0992-4639-8d25-a7f97fc34c7d"
      },
      "outputs": [
        {
          "ename": "KeyError",
          "evalue": "2",
          "output_type": "error",
          "traceback": [
            "\u001b[1;31m---------------------------------------------------------------------------\u001b[0m",
            "\u001b[1;31mKeyError\u001b[0m                                  Traceback (most recent call last)",
            "\u001b[1;32m~\\AppData\\Local\\Temp/ipykernel_13308/1861162602.py\u001b[0m in \u001b[0;36m<module>\u001b[1;34m\u001b[0m\n\u001b[0;32m      1\u001b[0m \u001b[1;31m# Unordered\u001b[0m\u001b[1;33m\u001b[0m\u001b[1;33m\u001b[0m\u001b[0m\n\u001b[1;32m----> 2\u001b[1;33m \u001b[0mDS001\u001b[0m\u001b[1;33m[\u001b[0m\u001b[1;36m2\u001b[0m\u001b[1;33m]\u001b[0m\u001b[1;33m\u001b[0m\u001b[1;33m\u001b[0m\u001b[0m\n\u001b[0m",
            "\u001b[1;31mKeyError\u001b[0m: 2"
          ]
        }
      ],
      "source": [
        "# Unordered cannot access anything using indexing\n",
        "DS001[2]"
      ]
    },
    {
      "cell_type": "code",
      "execution_count": null,
      "id": "d532ded5",
      "metadata": {
        "colab": {
          "base_uri": "https://localhost:8080/"
        },
        "id": "d532ded5",
        "outputId": "ca29a1ea-2b1b-40c3-de64-db7d0cc5c9c3"
      },
      "outputs": [
        {
          "output_type": "execute_result",
          "data": {
            "text/plain": [
              "{'Age': 25,\n",
              " 'Education': 'Graduate',\n",
              " 'IT background': False,\n",
              " 'Name': 'Sandeep',\n",
              " 'Score': 78}"
            ]
          },
          "metadata": {},
          "execution_count": 3
        }
      ],
      "source": [
        "# Override the duplicates\n",
        "DS001 = {\"Name\": \"Sandeep\", \"Age\": 25, \"Education\": \"Graduate\", \"IT background\": False, \"Score\": 79, \"Score\": 78} # Name, age, education, IT/NonIT, Python marks\n",
        "DS001"
      ]
    },
    {
      "cell_type": "markdown",
      "id": "b060f634",
      "metadata": {
        "id": "b060f634"
      },
      "source": [
        "Score is now 78, 78 override the 76"
      ]
    },
    {
      "cell_type": "code",
      "execution_count": null,
      "id": "f6a60b24",
      "metadata": {
        "id": "f6a60b24",
        "outputId": "69f6fea5-7ac0-4ed3-a4cb-559323773564"
      },
      "outputs": [
        {
          "data": {
            "text/plain": [
              "{'Name': 'Sandeep',\n",
              " 'Age': 25,\n",
              " 'Education': 'PhD',\n",
              " 'IT background': False,\n",
              " 'Score': 78}"
            ]
          },
          "execution_count": 12,
          "metadata": {},
          "output_type": "execute_result"
        }
      ],
      "source": [
        "# It is mutable\n",
        "DS001[\"Education\"] = \"PhD\"\n",
        "DS001"
      ]
    },
    {
      "cell_type": "code",
      "execution_count": null,
      "id": "00348bed",
      "metadata": {
        "id": "00348bed",
        "outputId": "0b000750-1279-4a1d-ef48-1872d045681a"
      },
      "outputs": [
        {
          "data": {
            "text/plain": [
              "('Score', 78)"
            ]
          },
          "execution_count": 13,
          "metadata": {},
          "output_type": "execute_result"
        }
      ],
      "source": [
        "# We can remove last itme using popitem function\n",
        "DS001.popitem()"
      ]
    },
    {
      "cell_type": "code",
      "execution_count": null,
      "id": "09836b41",
      "metadata": {
        "id": "09836b41",
        "outputId": "e20a3a27-0b89-4bd9-d295-e8dbac4f0d85"
      },
      "outputs": [
        {
          "data": {
            "text/plain": [
              "{'Name': 'Sandeep', 'Age': 25, 'Education': 'PhD', 'IT background': False}"
            ]
          },
          "execution_count": 8,
          "metadata": {},
          "output_type": "execute_result"
        }
      ],
      "source": [
        "DS001"
      ]
    },
    {
      "cell_type": "code",
      "execution_count": null,
      "id": "f963662b",
      "metadata": {
        "id": "f963662b"
      },
      "outputs": [],
      "source": [
        "DS001[\"Stats background\"] = \"Yes\""
      ]
    },
    {
      "cell_type": "code",
      "execution_count": null,
      "id": "242718d7",
      "metadata": {
        "colab": {
          "base_uri": "https://localhost:8080/"
        },
        "id": "242718d7",
        "outputId": "392e9e0f-af49-41e4-b258-f531049d54eb"
      },
      "outputs": [
        {
          "output_type": "execute_result",
          "data": {
            "text/plain": [
              "{'Age': 25,\n",
              " 'Education': 'Graduate',\n",
              " 'IT background': False,\n",
              " 'Name': 'Sandeep',\n",
              " 'Score': 78,\n",
              " 'Stats background': 'Yes'}"
            ]
          },
          "metadata": {},
          "execution_count": 5
        }
      ],
      "source": [
        "DS001"
      ]
    },
    {
      "cell_type": "markdown",
      "id": "cfdd718e",
      "metadata": {
        "id": "cfdd718e"
      },
      "source": [
        "### Create a dictionary"
      ]
    },
    {
      "cell_type": "code",
      "execution_count": null,
      "id": "ffd1a1d7",
      "metadata": {
        "id": "ffd1a1d7"
      },
      "outputs": [],
      "source": [
        "Student_ID = [\"DS001\", \"DS002\", \"DS003\"]\n",
        "Student_Edu = [\"PhD\", \"Grad\", \"Under Grad\"]"
      ]
    },
    {
      "cell_type": "code",
      "execution_count": null,
      "id": "ddee1231",
      "metadata": {
        "colab": {
          "base_uri": "https://localhost:8080/"
        },
        "id": "ddee1231",
        "outputId": "d7bf10ab-e1ef-41e8-8a7b-7c1df4e82f22"
      },
      "outputs": [
        {
          "output_type": "execute_result",
          "data": {
            "text/plain": [
              "[('DS001', 'PhD'), ('DS002', 'Grad'), ('DS003', 'Under Grad')]"
            ]
          },
          "metadata": {},
          "execution_count": 14
        }
      ],
      "source": [
        "list(zip(Student_ID, Student_Edu)) # zip function merge them based on index"
      ]
    },
    {
      "cell_type": "code",
      "execution_count": null,
      "id": "27e7effb",
      "metadata": {
        "id": "27e7effb"
      },
      "outputs": [],
      "source": [
        "diction = {}\n",
        "for i, j in zip(Student_ID, Student_Edu):\n",
        "    diction[i] = j\n"
      ]
    },
    {
      "cell_type": "code",
      "execution_count": null,
      "id": "4f375640",
      "metadata": {
        "colab": {
          "base_uri": "https://localhost:8080/"
        },
        "id": "4f375640",
        "outputId": "ec9778d4-e95c-4715-fc7a-8c486a5ad0f6"
      },
      "outputs": [
        {
          "output_type": "execute_result",
          "data": {
            "text/plain": [
              "{'DS001': 'PhD', 'DS002': 'Grad', 'DS003': 'Under Grad'}"
            ]
          },
          "metadata": {},
          "execution_count": 10
        }
      ],
      "source": [
        "diction"
      ]
    },
    {
      "cell_type": "markdown",
      "id": "17aee465",
      "metadata": {
        "id": "17aee465"
      },
      "source": [
        "### Accessing dictionaries\n",
        "\n",
        "- It is unorderd so we cannot use index\n",
        "- Only way to use keys"
      ]
    },
    {
      "cell_type": "code",
      "execution_count": null,
      "id": "8c43d579",
      "metadata": {
        "id": "8c43d579",
        "outputId": "8c27e357-6af0-4010-9995-1c9b8675e14d"
      },
      "outputs": [
        {
          "data": {
            "text/plain": [
              "'Grad'"
            ]
          },
          "execution_count": 69,
          "metadata": {},
          "output_type": "execute_result"
        }
      ],
      "source": [
        "DS001[\"Education\"]"
      ]
    },
    {
      "cell_type": "code",
      "execution_count": null,
      "id": "1461c915",
      "metadata": {
        "id": "1461c915",
        "outputId": "b7dcdd5a-cb9a-41aa-9675-6cbb627bd52a"
      },
      "outputs": [
        {
          "data": {
            "text/plain": [
              "{'Name': 'Sandeep', 'Age': 25, 'Education': 'Grad', 'IT background': False}"
            ]
          },
          "execution_count": 70,
          "metadata": {},
          "output_type": "execute_result"
        }
      ],
      "source": [
        "DS001[\"Education\"] = \"Grad\"\n",
        "DS001"
      ]
    },
    {
      "cell_type": "markdown",
      "id": "a47ab6a0",
      "metadata": {
        "id": "a47ab6a0"
      },
      "source": [
        "### Method in Dict"
      ]
    },
    {
      "cell_type": "code",
      "execution_count": null,
      "id": "8a5ce871",
      "metadata": {
        "colab": {
          "base_uri": "https://localhost:8080/"
        },
        "id": "8a5ce871",
        "outputId": "0e735aa6-634e-4493-f9df-a1bebc713809"
      },
      "outputs": [
        {
          "output_type": "execute_result",
          "data": {
            "text/plain": [
              "{'DS001': 'PhD', 'DS002': 'Grad', 'DS003': 'Under Grad'}"
            ]
          },
          "metadata": {},
          "execution_count": 11
        }
      ],
      "source": [
        "diction"
      ]
    },
    {
      "cell_type": "code",
      "execution_count": null,
      "id": "88cba560",
      "metadata": {
        "colab": {
          "base_uri": "https://localhost:8080/"
        },
        "id": "88cba560",
        "outputId": "fd76c457-2a7e-4d4a-e0b1-4e623e4fc302"
      },
      "outputs": [
        {
          "output_type": "execute_result",
          "data": {
            "text/plain": [
              "dict_keys(['DS001', 'DS002', 'DS003'])"
            ]
          },
          "metadata": {},
          "execution_count": 12
        }
      ],
      "source": [
        "diction.keys() # it is not necessary the keys will always be in order"
      ]
    },
    {
      "cell_type": "code",
      "execution_count": null,
      "id": "669e7dc6",
      "metadata": {
        "id": "669e7dc6",
        "outputId": "cc61b022-4104-421a-bf42-a218195419e5"
      },
      "outputs": [
        {
          "data": {
            "text/plain": [
              "['DS001', 'DS002', 'DS003']"
            ]
          },
          "execution_count": 73,
          "metadata": {},
          "output_type": "execute_result"
        }
      ],
      "source": [
        "keys = list(diction.keys()) # give keys as a list as many operations are easy in list\n",
        "keys"
      ]
    },
    {
      "cell_type": "code",
      "execution_count": null,
      "id": "06e066a6",
      "metadata": {
        "id": "06e066a6",
        "outputId": "90290c2d-5756-4ad8-dcb0-736408ca3b32"
      },
      "outputs": [
        {
          "data": {
            "text/plain": [
              "dict_values(['PhD', 'Grad', 'Under Grad'])"
            ]
          },
          "execution_count": 74,
          "metadata": {},
          "output_type": "execute_result"
        }
      ],
      "source": [
        "diction.values()"
      ]
    },
    {
      "cell_type": "code",
      "execution_count": null,
      "id": "e514abb6",
      "metadata": {
        "id": "e514abb6",
        "outputId": "24f5e0ff-6c1c-46f5-81da-39dc8b407f46"
      },
      "outputs": [
        {
          "data": {
            "text/plain": [
              "['PhD', 'Grad', 'Under Grad']"
            ]
          },
          "execution_count": 75,
          "metadata": {},
          "output_type": "execute_result"
        }
      ],
      "source": [
        "val = list(diction.values())\n",
        "val"
      ]
    },
    {
      "cell_type": "code",
      "execution_count": null,
      "id": "d92da3de",
      "metadata": {
        "id": "d92da3de",
        "outputId": "8789fa79-0709-4186-de8b-e4b82dc48e04"
      },
      "outputs": [
        {
          "data": {
            "text/plain": [
              "dict_items([('DS001', 'PhD'), ('DS002', 'Grad'), ('DS003', 'Under Grad')])"
            ]
          },
          "execution_count": 76,
          "metadata": {},
          "output_type": "execute_result"
        }
      ],
      "source": [
        "diction.items() # keys and values will be togther in form of tuple"
      ]
    },
    {
      "cell_type": "code",
      "execution_count": null,
      "id": "9cedb129",
      "metadata": {
        "id": "9cedb129",
        "outputId": "7ed9a134-9f6d-46f5-acc6-c0cdb6725c10"
      },
      "outputs": [
        {
          "data": {
            "text/plain": [
              "{'DS001': 'PhD', 'DS002': 'Grad', 'DS003': 'Under Grad', 'DS004': 'Grad'}"
            ]
          },
          "execution_count": 77,
          "metadata": {},
          "output_type": "execute_result"
        }
      ],
      "source": [
        "diction['DS004'] = \"Grad\" # including key and values\n",
        "diction"
      ]
    },
    {
      "cell_type": "code",
      "execution_count": null,
      "id": "27a3ffbf",
      "metadata": {
        "id": "27a3ffbf",
        "outputId": "aed5df27-049d-47a7-fdca-05ef244e09ca"
      },
      "outputs": [
        {
          "data": {
            "text/plain": [
              "'Grad'"
            ]
          },
          "execution_count": 78,
          "metadata": {},
          "output_type": "execute_result"
        }
      ],
      "source": [
        "diction.pop(\"DS002\") # we must have to specify key to remove key and values\n"
      ]
    },
    {
      "cell_type": "code",
      "execution_count": null,
      "id": "9701bd8a",
      "metadata": {
        "id": "9701bd8a",
        "outputId": "a821a7c2-4128-47dc-b679-33e24d81dbd7"
      },
      "outputs": [
        {
          "data": {
            "text/plain": [
              "{'DS001': 'PhD', 'DS003': 'Under Grad', 'DS004': 'Grad'}"
            ]
          },
          "execution_count": 79,
          "metadata": {},
          "output_type": "execute_result"
        }
      ],
      "source": [
        "diction"
      ]
    },
    {
      "cell_type": "code",
      "execution_count": null,
      "id": "7135c196",
      "metadata": {
        "id": "7135c196",
        "outputId": "026cf302-636e-4e92-cd35-bb914cecc698"
      },
      "outputs": [
        {
          "data": {
            "text/plain": [
              "'Grad'"
            ]
          },
          "execution_count": 82,
          "metadata": {},
          "output_type": "execute_result"
        }
      ],
      "source": [
        "# Get function retrieves values from keys\n",
        "diction.get(\"DS004\") # will not throw error if key is not present"
      ]
    },
    {
      "cell_type": "code",
      "execution_count": null,
      "id": "ea54c39d",
      "metadata": {
        "id": "ea54c39d"
      },
      "outputs": [],
      "source": [
        "del diction['DS001']\n",
        "print(diction)"
      ]
    }
  ],
  "metadata": {
    "kernelspec": {
      "display_name": "Python 3 (ipykernel)",
      "language": "python",
      "name": "python3"
    },
    "language_info": {
      "codemirror_mode": {
        "name": "ipython",
        "version": 3
      },
      "file_extension": ".py",
      "mimetype": "text/x-python",
      "name": "python",
      "nbconvert_exporter": "python",
      "pygments_lexer": "ipython3",
      "version": "3.9.7"
    },
    "colab": {
      "name": "Data_structures _Dict.ipynb",
      "provenance": [],
      "toc_visible": true
    }
  },
  "nbformat": 4,
  "nbformat_minor": 5
}